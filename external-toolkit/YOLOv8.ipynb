{
  "nbformat": 4,
  "nbformat_minor": 0,
  "metadata": {
    "colab": {
      "provenance": []
    },
    "kernelspec": {
      "name": "python3",
      "display_name": "Python 3"
    },
    "language_info": {
      "name": "python"
    }
  },
  "cells": [
    {
      "cell_type": "code",
      "execution_count": null,
      "metadata": {
        "id": "kHVffU0aDkKx"
      },
      "outputs": [],
      "source": [
        "!pip install ultralytics\n",
        "!pip install roboflow\n",
        "from ultralytics import YOLO\n",
        "from roboflow import Roboflow\n",
        "\n",
        "\n",
        "from google.colab import drive\n",
        "drive.mount('/content/drive')\n",
        "\n",
        "!nvidia-smi"
      ]
    },
    {
      "cell_type": "code",
      "source": [
        "rf = Roboflow(api_key=\"UN6IivUMuUKKL4FOG1FP\")\n",
        "project = rf.workspace(\"raptors\").project(\"dataset-qppqu\")\n",
        "version = project.version(5)\n",
        "dataset = version.download(\"yolov8\")\n"
      ],
      "metadata": {
        "id": "kKx2GMySDnPa"
      },
      "execution_count": null,
      "outputs": []
    },
    {
      "cell_type": "markdown",
      "source": [
        "# Train"
      ],
      "metadata": {
        "id": "XfdDoyFzEFtI"
      }
    },
    {
      "cell_type": "markdown",
      "source": [
        "# NOTE:-  change loc of img folder in yaml file of dataset."
      ],
      "metadata": {
        "id": "47JzIOvSJYRS"
      }
    },
    {
      "cell_type": "code",
      "source": [
        "# NOTE:-  change loc of img folder in yaml file of dataset.\n",
        "\n",
        "model = YOLO('yolov8m.pt')\n",
        "\n",
        "results = model.train(\n",
        "    data='/content/monitor-detection-6/data.yaml',\n",
        "    batch=30,\n",
        "    epochs=200,\n",
        "    project='/content/drive/MyDrive/Train_Model' # folder loc to store model\n",
        "    ,cache=True)"
      ],
      "metadata": {
        "id": "Jdq7MhnlDt42"
      },
      "execution_count": null,
      "outputs": []
    },
    {
      "cell_type": "markdown",
      "source": [
        "# Validation"
      ],
      "metadata": {
        "id": "Fpv67RuRErU3"
      }
    },
    {
      "cell_type": "code",
      "source": [
        "model = YOLO('/content/drive/MyDrive/best (1).pt')\n",
        "\n",
        "# Customize validation settings\n",
        "validation_results = model.val(data='/content/monitor-detection-6/data.yaml',conf=0.25,)"
      ],
      "metadata": {
        "id": "v3P-sc6iEU2Q"
      },
      "execution_count": null,
      "outputs": []
    },
    {
      "cell_type": "markdown",
      "source": [
        "#Resume"
      ],
      "metadata": {
        "id": "HFPbq9e_D-A1"
      }
    },
    {
      "cell_type": "code",
      "source": [
        "from ultralytics import YOLO\n",
        "# Load a model\n",
        "model = YOLO('/content/drive/MyDrive/best (1).pt')  # load a partially trained model\n",
        "\n",
        "# Resume training\n",
        "results = model.train(resume=True)\n",
        "# model.export(format='openvino')"
      ],
      "metadata": {
        "id": "GEF3u9HXD34n"
      },
      "execution_count": null,
      "outputs": []
    }
  ]
}